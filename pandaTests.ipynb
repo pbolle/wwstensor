{
 "cells": [
  {
   "cell_type": "markdown",
   "metadata": {},
   "source": [
    "Import Libs"
   ]
  },
  {
   "cell_type": "code",
   "execution_count": null,
   "metadata": {},
   "outputs": [],
   "source": [
    "import pandas as pd\n",
    "import matplotlib.pyplot as plt\n",
    "import matplotlib.dates as mdates"
   ]
  },
  {
   "cell_type": "markdown",
   "metadata": {},
   "source": [
    "Laden der Daten"
   ]
  },
  {
   "cell_type": "code",
   "execution_count": 43,
   "metadata": {},
   "outputs": [],
   "source": [
    "df = pd.read_csv('/home/pbolle/Dokumente/weather/converted/model1.csv', usecols=['date', 'hum_in', 'temp_out'],\n",
    "                   parse_dates=['date'])"
   ]
  },
  {
   "cell_type": "markdown",
   "metadata": {},
   "source": [
    "zwei neue Spalten mit Woche und Tag\n",
    "die ersten 5 Einträge"
   ]
  },
  {
   "cell_type": "code",
   "execution_count": 44,
   "metadata": {},
   "outputs": [
    {
     "data": {
      "text/html": [
       "<div>\n",
       "<style scoped>\n",
       "    .dataframe tbody tr th:only-of-type {\n",
       "        vertical-align: middle;\n",
       "    }\n",
       "\n",
       "    .dataframe tbody tr th {\n",
       "        vertical-align: top;\n",
       "    }\n",
       "\n",
       "    .dataframe thead th {\n",
       "        text-align: right;\n",
       "    }\n",
       "</style>\n",
       "<table border=\"1\" class=\"dataframe\">\n",
       "  <thead>\n",
       "    <tr style=\"text-align: right;\">\n",
       "      <th></th>\n",
       "      <th>date</th>\n",
       "      <th>hum_in</th>\n",
       "      <th>temp_out</th>\n",
       "      <th>day</th>\n",
       "      <th>week</th>\n",
       "    </tr>\n",
       "  </thead>\n",
       "  <tbody>\n",
       "    <tr>\n",
       "      <th>0</th>\n",
       "      <td>2017-10-27 21:16:00</td>\n",
       "      <td>43</td>\n",
       "      <td>8.3</td>\n",
       "      <td>2017-10-27</td>\n",
       "      <td>2017-43</td>\n",
       "    </tr>\n",
       "    <tr>\n",
       "      <th>1</th>\n",
       "      <td>2017-10-27 21:21:00</td>\n",
       "      <td>43</td>\n",
       "      <td>8.3</td>\n",
       "      <td>2017-10-27</td>\n",
       "      <td>2017-43</td>\n",
       "    </tr>\n",
       "    <tr>\n",
       "      <th>2</th>\n",
       "      <td>2017-10-27 21:26:00</td>\n",
       "      <td>43</td>\n",
       "      <td>8.3</td>\n",
       "      <td>2017-10-27</td>\n",
       "      <td>2017-43</td>\n",
       "    </tr>\n",
       "    <tr>\n",
       "      <th>3</th>\n",
       "      <td>2017-10-27 21:31:00</td>\n",
       "      <td>43</td>\n",
       "      <td>8.3</td>\n",
       "      <td>2017-10-27</td>\n",
       "      <td>2017-43</td>\n",
       "    </tr>\n",
       "    <tr>\n",
       "      <th>4</th>\n",
       "      <td>2017-10-27 21:36:00</td>\n",
       "      <td>43</td>\n",
       "      <td>8.4</td>\n",
       "      <td>2017-10-27</td>\n",
       "      <td>2017-43</td>\n",
       "    </tr>\n",
       "  </tbody>\n",
       "</table>\n",
       "</div>"
      ],
      "text/plain": [
       "                 date  hum_in  temp_out         day     week\n",
       "0 2017-10-27 21:16:00      43       8.3  2017-10-27  2017-43\n",
       "1 2017-10-27 21:21:00      43       8.3  2017-10-27  2017-43\n",
       "2 2017-10-27 21:26:00      43       8.3  2017-10-27  2017-43\n",
       "3 2017-10-27 21:31:00      43       8.3  2017-10-27  2017-43\n",
       "4 2017-10-27 21:36:00      43       8.4  2017-10-27  2017-43"
      ]
     },
     "execution_count": 44,
     "metadata": {},
     "output_type": "execute_result"
    }
   ],
   "source": [
    "df['day'] = df.apply(lambda row: row['date'].strftime('%Y-%m-%d'), axis=1)\n",
    "df['week'] = df.apply(lambda row: row['date'].strftime('%Y-%W'), axis=1)\n",
    "\n",
    "df.head()"
   ]
  },
  {
   "cell_type": "markdown",
   "metadata": {},
   "source": [
    "Mache Date zum Index"
   ]
  },
  {
   "cell_type": "code",
   "execution_count": 45,
   "metadata": {},
   "outputs": [
    {
     "data": {
      "text/html": [
       "<div>\n",
       "<style scoped>\n",
       "    .dataframe tbody tr th:only-of-type {\n",
       "        vertical-align: middle;\n",
       "    }\n",
       "\n",
       "    .dataframe tbody tr th {\n",
       "        vertical-align: top;\n",
       "    }\n",
       "\n",
       "    .dataframe thead th {\n",
       "        text-align: right;\n",
       "    }\n",
       "</style>\n",
       "<table border=\"1\" class=\"dataframe\">\n",
       "  <thead>\n",
       "    <tr style=\"text-align: right;\">\n",
       "      <th></th>\n",
       "      <th></th>\n",
       "      <th></th>\n",
       "      <th>hum_in</th>\n",
       "      <th>temp_out</th>\n",
       "    </tr>\n",
       "    <tr>\n",
       "      <th>day</th>\n",
       "      <th>week</th>\n",
       "      <th>date</th>\n",
       "      <th></th>\n",
       "      <th></th>\n",
       "    </tr>\n",
       "  </thead>\n",
       "  <tbody>\n",
       "    <tr>\n",
       "      <th rowspan=\"5\" valign=\"top\">2017-10-27</th>\n",
       "      <th rowspan=\"5\" valign=\"top\">2017-43</th>\n",
       "      <th>2017-10-27 21:16:00</th>\n",
       "      <td>43</td>\n",
       "      <td>8.3</td>\n",
       "    </tr>\n",
       "    <tr>\n",
       "      <th>2017-10-27 21:21:00</th>\n",
       "      <td>43</td>\n",
       "      <td>8.3</td>\n",
       "    </tr>\n",
       "    <tr>\n",
       "      <th>2017-10-27 21:26:00</th>\n",
       "      <td>43</td>\n",
       "      <td>8.3</td>\n",
       "    </tr>\n",
       "    <tr>\n",
       "      <th>2017-10-27 21:31:00</th>\n",
       "      <td>43</td>\n",
       "      <td>8.3</td>\n",
       "    </tr>\n",
       "    <tr>\n",
       "      <th>2017-10-27 21:36:00</th>\n",
       "      <td>43</td>\n",
       "      <td>8.4</td>\n",
       "    </tr>\n",
       "  </tbody>\n",
       "</table>\n",
       "</div>"
      ],
      "text/plain": [
       "                                        hum_in  temp_out\n",
       "day        week    date                                 \n",
       "2017-10-27 2017-43 2017-10-27 21:16:00      43       8.3\n",
       "                   2017-10-27 21:21:00      43       8.3\n",
       "                   2017-10-27 21:26:00      43       8.3\n",
       "                   2017-10-27 21:31:00      43       8.3\n",
       "                   2017-10-27 21:36:00      43       8.4"
      ]
     },
     "execution_count": 45,
     "metadata": {},
     "output_type": "execute_result"
    }
   ],
   "source": [
    "df.set_index(['day','week','date'], inplace=True)\n",
    "\n",
    "#dfi=df.set_index(['day','week',])\n",
    "df.head()"
   ]
  },
  {
   "cell_type": "markdown",
   "metadata": {},
   "source": [
    "Infromationen über das Dataframe (Datentypen,Größe)"
   ]
  },
  {
   "cell_type": "code",
   "execution_count": 46,
   "metadata": {},
   "outputs": [
    {
     "name": "stdout",
     "output_type": "stream",
     "text": [
      "<class 'pandas.core.frame.DataFrame'>\n",
      "MultiIndex: 23442 entries, (2017-10-27, 2017-43, 2017-10-27 21:16:00) to (2018-01-20, 2018-03, 2018-01-20 08:53:59)\n",
      "Data columns (total 2 columns):\n",
      "hum_in      23442 non-null int64\n",
      "temp_out    23442 non-null float64\n",
      "dtypes: float64(1), int64(1)\n",
      "memory usage: 641.9+ KB\n"
     ]
    }
   ],
   "source": [
    "df.info()"
   ]
  },
  {
   "cell_type": "markdown",
   "metadata": {},
   "source": [
    "Max Temperatur"
   ]
  },
  {
   "cell_type": "code",
   "execution_count": 47,
   "metadata": {},
   "outputs": [
    {
     "data": {
      "text/plain": [
       "15.3"
      ]
     },
     "execution_count": 47,
     "metadata": {},
     "output_type": "execute_result"
    }
   ],
   "source": [
    "df['temp_out'].max()"
   ]
  },
  {
   "cell_type": "markdown",
   "metadata": {},
   "source": [
    "Min Temperatur"
   ]
  },
  {
   "cell_type": "code",
   "execution_count": 48,
   "metadata": {},
   "outputs": [
    {
     "data": {
      "text/plain": [
       "-4.1"
      ]
     },
     "execution_count": 48,
     "metadata": {},
     "output_type": "execute_result"
    }
   ],
   "source": [
    "df['temp_out'].min()"
   ]
  },
  {
   "cell_type": "markdown",
   "metadata": {},
   "source": [
    "Temperatur Kurve"
   ]
  },
  {
   "cell_type": "code",
   "execution_count": 49,
   "metadata": {},
   "outputs": [
    {
     "data": {
      "text/plain": [
       "<matplotlib.axes._subplots.AxesSubplot at 0x7f3ada6d2cd0>"
      ]
     },
     "execution_count": 49,
     "metadata": {},
     "output_type": "execute_result"
    },
    {
     "data": {
      "image/png": "[encoded data removed]",
      "text/plain": [
       "<matplotlib.figure.Figure at 0x7f3ada702910>"
      ]
     },
     "metadata": {},
     "output_type": "display_data"
    }
   ],
   "source": [
    "df['temp_out'].plot()"
   ]
  },
  {
   "cell_type": "code",
   "execution_count": 73,
   "metadata": {},
   "outputs": [
    {
     "data": {
      "text/html": [
       "<div>\n",
       "<style scoped>\n",
       "    .dataframe tbody tr th:only-of-type {\n",
       "        vertical-align: middle;\n",
       "    }\n",
       "\n",
       "    .dataframe tbody tr th {\n",
       "        vertical-align: top;\n",
       "    }\n",
       "\n",
       "    .dataframe thead th {\n",
       "        text-align: right;\n",
       "    }\n",
       "</style>\n",
       "<table border=\"1\" class=\"dataframe\">\n",
       "  <thead>\n",
       "    <tr style=\"text-align: right;\">\n",
       "      <th></th>\n",
       "      <th>max</th>\n",
       "      <th>min</th>\n",
       "      <th>diff</th>\n",
       "    </tr>\n",
       "    <tr>\n",
       "      <th>week</th>\n",
       "      <th></th>\n",
       "      <th></th>\n",
       "      <th></th>\n",
       "    </tr>\n",
       "  </thead>\n",
       "  <tbody>\n",
       "    <tr>\n",
       "      <th>2017-43</th>\n",
       "      <td>11.6</td>\n",
       "      <td>5.2</td>\n",
       "      <td>6.4</td>\n",
       "    </tr>\n",
       "    <tr>\n",
       "      <th>2017-44</th>\n",
       "      <td>15.0</td>\n",
       "      <td>2.6</td>\n",
       "      <td>12.4</td>\n",
       "    </tr>\n",
       "    <tr>\n",
       "      <th>2017-45</th>\n",
       "      <td>10.9</td>\n",
       "      <td>-0.2</td>\n",
       "      <td>11.1</td>\n",
       "    </tr>\n",
       "    <tr>\n",
       "      <th>2017-46</th>\n",
       "      <td>10.3</td>\n",
       "      <td>-1.6</td>\n",
       "      <td>11.9</td>\n",
       "    </tr>\n",
       "    <tr>\n",
       "      <th>2017-47</th>\n",
       "      <td>15.3</td>\n",
       "      <td>-0.4</td>\n",
       "      <td>15.7</td>\n",
       "    </tr>\n",
       "    <tr>\n",
       "      <th>2017-48</th>\n",
       "      <td>7.7</td>\n",
       "      <td>-1.9</td>\n",
       "      <td>9.6</td>\n",
       "    </tr>\n",
       "    <tr>\n",
       "      <th>2017-49</th>\n",
       "      <td>9.4</td>\n",
       "      <td>-1.1</td>\n",
       "      <td>10.5</td>\n",
       "    </tr>\n",
       "    <tr>\n",
       "      <th>2017-50</th>\n",
       "      <td>8.2</td>\n",
       "      <td>-0.7</td>\n",
       "      <td>8.9</td>\n",
       "    </tr>\n",
       "    <tr>\n",
       "      <th>2017-51</th>\n",
       "      <td>9.0</td>\n",
       "      <td>-4.1</td>\n",
       "      <td>13.1</td>\n",
       "    </tr>\n",
       "    <tr>\n",
       "      <th>2017-52</th>\n",
       "      <td>12.5</td>\n",
       "      <td>-1.1</td>\n",
       "      <td>13.6</td>\n",
       "    </tr>\n",
       "    <tr>\n",
       "      <th>2018-01</th>\n",
       "      <td>12.0</td>\n",
       "      <td>-1.5</td>\n",
       "      <td>13.5</td>\n",
       "    </tr>\n",
       "    <tr>\n",
       "      <th>2018-02</th>\n",
       "      <td>6.5</td>\n",
       "      <td>-3.9</td>\n",
       "      <td>10.4</td>\n",
       "    </tr>\n",
       "    <tr>\n",
       "      <th>2018-03</th>\n",
       "      <td>7.0</td>\n",
       "      <td>-3.0</td>\n",
       "      <td>10.0</td>\n",
       "    </tr>\n",
       "  </tbody>\n",
       "</table>\n",
       "</div>"
      ],
      "text/plain": [
       "          max  min  diff\n",
       "week                    \n",
       "2017-43  11.6  5.2   6.4\n",
       "2017-44  15.0  2.6  12.4\n",
       "2017-45  10.9 -0.2  11.1\n",
       "2017-46  10.3 -1.6  11.9\n",
       "2017-47  15.3 -0.4  15.7\n",
       "2017-48   7.7 -1.9   9.6\n",
       "2017-49   9.4 -1.1  10.5\n",
       "2017-50   8.2 -0.7   8.9\n",
       "2017-51   9.0 -4.1  13.1\n",
       "2017-52  12.5 -1.1  13.6\n",
       "2018-01  12.0 -1.5  13.5\n",
       "2018-02   6.5 -3.9  10.4\n",
       "2018-03   7.0 -3.0  10.0"
      ]
     },
     "execution_count": 73,
     "metadata": {},
     "output_type": "execute_result"
    }
   ],
   "source": [
    "result = df.groupby('week')['temp_out'].agg(['max','min'])\n",
    "result['diff'] = result['max']-result['min']\n",
    "result"
   ]
  },
  {
   "cell_type": "code",
   "execution_count": 65,
   "metadata": {},
   "outputs": [
    {
     "data": {
      "text/html": [
       "<div>\n",
       "<style scoped>\n",
       "    .dataframe tbody tr th:only-of-type {\n",
       "        vertical-align: middle;\n",
       "    }\n",
       "\n",
       "    .dataframe tbody tr th {\n",
       "        vertical-align: top;\n",
       "    }\n",
       "\n",
       "    .dataframe thead th {\n",
       "        text-align: right;\n",
       "    }\n",
       "</style>\n",
       "<table border=\"1\" class=\"dataframe\">\n",
       "  <thead>\n",
       "    <tr style=\"text-align: right;\">\n",
       "      <th></th>\n",
       "      <th></th>\n",
       "      <th></th>\n",
       "      <th>hum_in</th>\n",
       "      <th>temp_out</th>\n",
       "    </tr>\n",
       "    <tr>\n",
       "      <th>day</th>\n",
       "      <th>week</th>\n",
       "      <th>date</th>\n",
       "      <th></th>\n",
       "      <th></th>\n",
       "    </tr>\n",
       "  </thead>\n",
       "  <tbody>\n",
       "    <tr>\n",
       "      <th rowspan=\"5\" valign=\"top\">2017-11-01</th>\n",
       "      <th rowspan=\"5\" valign=\"top\">2017-44</th>\n",
       "      <th>2017-11-01 00:01:10</th>\n",
       "      <td>34</td>\n",
       "      <td>8.3</td>\n",
       "    </tr>\n",
       "    <tr>\n",
       "      <th>2017-11-01 00:06:10</th>\n",
       "      <td>34</td>\n",
       "      <td>8.3</td>\n",
       "    </tr>\n",
       "    <tr>\n",
       "      <th>2017-11-01 00:11:10</th>\n",
       "      <td>34</td>\n",
       "      <td>8.3</td>\n",
       "    </tr>\n",
       "    <tr>\n",
       "      <th>2017-11-01 00:16:10</th>\n",
       "      <td>34</td>\n",
       "      <td>8.3</td>\n",
       "    </tr>\n",
       "    <tr>\n",
       "      <th>2017-11-01 00:21:10</th>\n",
       "      <td>34</td>\n",
       "      <td>8.4</td>\n",
       "    </tr>\n",
       "  </tbody>\n",
       "</table>\n",
       "</div>"
      ],
      "text/plain": [
       "                                        hum_in  temp_out\n",
       "day        week    date                                 \n",
       "2017-11-01 2017-44 2017-11-01 00:01:10      34       8.3\n",
       "                   2017-11-01 00:06:10      34       8.3\n",
       "                   2017-11-01 00:11:10      34       8.3\n",
       "                   2017-11-01 00:16:10      34       8.3\n",
       "                   2017-11-01 00:21:10      34       8.4"
      ]
     },
     "execution_count": 65,
     "metadata": {},
     "output_type": "execute_result"
    }
   ],
   "source": [
    "df['2017-11-01':'2017-11-30'].head()"
   ]
  },
  {
   "cell_type": "code",
   "execution_count": 67,
   "metadata": {},
   "outputs": [
    {
     "data": {
      "text/html": [
       "<div>\n",
       "<style scoped>\n",
       "    .dataframe tbody tr th:only-of-type {\n",
       "        vertical-align: middle;\n",
       "    }\n",
       "\n",
       "    .dataframe tbody tr th {\n",
       "        vertical-align: top;\n",
       "    }\n",
       "\n",
       "    .dataframe thead th {\n",
       "        text-align: right;\n",
       "    }\n",
       "</style>\n",
       "<table border=\"1\" class=\"dataframe\">\n",
       "  <thead>\n",
       "    <tr style=\"text-align: right;\">\n",
       "      <th></th>\n",
       "      <th></th>\n",
       "      <th></th>\n",
       "      <th>hum_in</th>\n",
       "      <th>temp_out</th>\n",
       "    </tr>\n",
       "    <tr>\n",
       "      <th>day</th>\n",
       "      <th>week</th>\n",
       "      <th>date</th>\n",
       "      <th></th>\n",
       "      <th></th>\n",
       "    </tr>\n",
       "  </thead>\n",
       "  <tbody>\n",
       "    <tr>\n",
       "      <th rowspan=\"5\" valign=\"top\">2017-11-30</th>\n",
       "      <th rowspan=\"5\" valign=\"top\">2017-48</th>\n",
       "      <th>2017-11-30 23:36:26</th>\n",
       "      <td>22</td>\n",
       "      <td>-1.4</td>\n",
       "    </tr>\n",
       "    <tr>\n",
       "      <th>2017-11-30 23:41:26</th>\n",
       "      <td>22</td>\n",
       "      <td>-1.4</td>\n",
       "    </tr>\n",
       "    <tr>\n",
       "      <th>2017-11-30 23:46:26</th>\n",
       "      <td>22</td>\n",
       "      <td>-1.4</td>\n",
       "    </tr>\n",
       "    <tr>\n",
       "      <th>2017-11-30 23:51:26</th>\n",
       "      <td>22</td>\n",
       "      <td>-1.3</td>\n",
       "    </tr>\n",
       "    <tr>\n",
       "      <th>2017-11-30 23:56:26</th>\n",
       "      <td>22</td>\n",
       "      <td>-1.3</td>\n",
       "    </tr>\n",
       "  </tbody>\n",
       "</table>\n",
       "</div>"
      ],
      "text/plain": [
       "                                        hum_in  temp_out\n",
       "day        week    date                                 \n",
       "2017-11-30 2017-48 2017-11-30 23:36:26      22      -1.4\n",
       "                   2017-11-30 23:41:26      22      -1.4\n",
       "                   2017-11-30 23:46:26      22      -1.4\n",
       "                   2017-11-30 23:51:26      22      -1.3\n",
       "                   2017-11-30 23:56:26      22      -1.3"
      ]
     },
     "execution_count": 67,
     "metadata": {},
     "output_type": "execute_result"
    }
   ],
   "source": [
    "df['2017-11-01':'2017-11-30'].tail()"
   ]
  },
  {
   "cell_type": "code",
   "execution_count": 69,
   "metadata": {},
   "outputs": [
    {
     "data": {
      "text/plain": [
       "15.3"
      ]
     },
     "execution_count": 69,
     "metadata": {},
     "output_type": "execute_result"
    }
   ],
   "source": [
    "df['2017-11-01':'2017-11-30']['temp_out'].max()"
   ]
  },
  {
   "cell_type": "code",
   "execution_count": 70,
   "metadata": {},
   "outputs": [
    {
     "data": {
      "text/plain": [
       "12.5"
      ]
     },
     "execution_count": 70,
     "metadata": {},
     "output_type": "execute_result"
    }
   ],
   "source": [
    "df['2017-12-01':'2017-12-31']['temp_out'].max()"
   ]
  },
  {
   "cell_type": "code",
   "execution_count": null,
   "metadata": {},
   "outputs": [],
   "source": []
  }
 ],
 "metadata": {
  "kernelspec": {
   "display_name": "Python 2",
   "language": "python",
   "name": "python2"
  },
  "language_info": {
   "codemirror_mode": {
    "name": "ipython",
    "version": 2
   },
   "file_extension": ".py",
   "mimetype": "text/x-python",
   "name": "python",
   "nbconvert_exporter": "python",
   "pygments_lexer": "ipython2",
   "version": "2.7.12"
  }
 },
 "nbformat": 4,
 "nbformat_minor": 2
}
